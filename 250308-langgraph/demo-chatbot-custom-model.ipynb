{
 "cells": [
  {
   "cell_type": "code",
   "execution_count": null,
   "metadata": {},
   "outputs": [],
   "source": [
    "%pip install 'bkng-ml-rs' --index-url https://jfrog.booking.com/artifactory/api/pypi/pypi/simple"
   ]
  },
  {
   "cell_type": "code",
   "execution_count": 2,
   "metadata": {},
   "outputs": [],
   "source": [
    "import getpass\n",
    "import os\n",
    "\n",
    "\n",
    "def _set_env(var: str):\n",
    "    if not os.environ.get(var):\n",
    "        os.environ[var] = getpass.getpass(f\"{var}: \")\n",
    "\n",
    "\n",
    "_set_env(\"ANTHROPIC_API_KEY\")"
   ]
  },
  {
   "cell_type": "code",
   "execution_count": null,
   "metadata": {},
   "outputs": [],
   "source": [
    "import json\n",
    "from bkng.mlregistry.client.types.entities import Application, Asset\n",
    "from bkng.mlregistry.client.types.asset_type import AssetType\n",
    "from bkng.ml.rs.client.gen_ai import Message\n",
    "\n",
    "from bkng.ml.rs.client import GenAIClient\n",
    "\n",
    "# Please replace with your own ML Application name and version here\n",
    "application = Application(name='taylor-agent-poc')\n",
    "claude = Asset(asset_type=AssetType.STATIC_MODEL, name='claude_3_5_sonnet', version='0.0.1')"
   ]
  },
  {
   "cell_type": "code",
   "execution_count": null,
   "metadata": {},
   "outputs": [],
   "source": [
    "genai_client = GenAIClient()"
   ]
  },
  {
   "cell_type": "code",
   "execution_count": 3,
   "metadata": {},
   "outputs": [],
   "source": [
    "from typing import Annotated\n",
    "\n",
    "from typing_extensions import TypedDict\n",
    "\n",
    "from langgraph.graph import StateGraph, START, END\n",
    "from langgraph.graph.message import add_messages\n",
    "\n",
    "\n",
    "class State(TypedDict):\n",
    "    # Messages have the type \"list\". The `add_messages` function\n",
    "    # in the annotation defines how this state key should be updated\n",
    "    # (in this case, it appends messages to the list, rather than overwriting them)\n",
    "    messages: Annotated[list, add_messages]\n",
    "\n",
    "\n",
    "graph_builder = StateGraph(State)"
   ]
  },
  {
   "cell_type": "code",
   "execution_count": 4,
   "metadata": {},
   "outputs": [],
   "source": [
    "from langchain_core.messages import (\n",
    "    AIMessage,\n",
    "    BaseMessage,\n",
    "    FunctionMessage,\n",
    "    HumanMessage,\n",
    "    SystemMessage,\n",
    "    ToolMessage,\n",
    ")"
   ]
  },
  {
   "cell_type": "code",
   "execution_count": 5,
   "metadata": {},
   "outputs": [],
   "source": [
    "from langchain_core.messages import (\n",
    "    AIMessageChunk,\n",
    "    FunctionMessageChunk,\n",
    "    HumanMessageChunk,\n",
    "    SystemMessageChunk,\n",
    "    ToolMessageChunk,\n",
    ")"
   ]
  },
  {
   "cell_type": "code",
   "execution_count": null,
   "metadata": {},
   "outputs": [],
   "source": []
  },
  {
   "cell_type": "code",
   "execution_count": null,
   "metadata": {},
   "outputs": [],
   "source": [
    "from typing import Any, Dict, Iterator, List, Optional\n",
    "\n",
    "from langchain_core.callbacks import (\n",
    "    CallbackManagerForLLMRun,\n",
    ")\n",
    "from langchain_core.language_models import BaseChatModel\n",
    "from langchain_core.messages import (\n",
    "    AIMessage,\n",
    "    AIMessageChunk,\n",
    "    BaseMessage,\n",
    ")\n",
    "from langchain_core.messages.ai import UsageMetadata\n",
    "from langchain_core.outputs import ChatGeneration, ChatGenerationChunk, ChatResult\n",
    "from pydantic import Field\n",
    "\n",
    "\n",
    "class ChatParrotLink(BaseChatModel):\n",
    "    \"\"\"A custom chat model that echoes the first `parrot_buffer_length` characters\n",
    "    of the input.\n",
    "\n",
    "    When contributing an implementation to LangChain, carefully document\n",
    "    the model including the initialization parameters, include\n",
    "    an example of how to initialize the model and include any relevant\n",
    "    links to the underlying models documentation or API.\n",
    "\n",
    "    Example:\n",
    "\n",
    "        .. code-block:: python\n",
    "\n",
    "            model = ChatParrotLink(parrot_buffer_length=2, model=\"bird-brain-001\")\n",
    "            result = model.invoke([HumanMessage(content=\"hello\")])\n",
    "            result = model.batch([[HumanMessage(content=\"hello\")],\n",
    "                                 [HumanMessage(content=\"world\")]])\n",
    "    \"\"\"\n",
    "\n",
    "    model_name: str = Field(alias=\"model\")\n",
    "    \"\"\"The name of the model\"\"\"\n",
    "    parrot_buffer_length: int\n",
    "    \"\"\"The number of characters from the last message of the prompt to be echoed.\"\"\"\n",
    "    temperature: Optional[float] = None\n",
    "    max_tokens: Optional[int] = None\n",
    "    timeout: Optional[int] = None\n",
    "    stop: Optional[List[str]] = None\n",
    "    max_retries: int = 2\n",
    "\n",
    "    def _generate(\n",
    "        self,\n",
    "        messages: List[BaseMessage],\n",
    "        stop: Optional[List[str]] = None,\n",
    "        run_manager: Optional[CallbackManagerForLLMRun] = None,\n",
    "        **kwargs: Any,\n",
    "    ) -> ChatResult:\n",
    "        \"\"\"Override the _generate method to implement the chat model logic.\n",
    "\n",
    "        This can be a call to an API, a call to a local model, or any other\n",
    "        implementation that generates a response to the input prompt.\n",
    "\n",
    "        Args:\n",
    "            messages: the prompt composed of a list of messages.\n",
    "            stop: a list of strings on which the model should stop generating.\n",
    "                  If generation stops due to a stop token, the stop token itself\n",
    "                  SHOULD BE INCLUDED as part of the output. This is not enforced\n",
    "                  across models right now, but it's a good practice to follow since\n",
    "                  it makes it much easier to parse the output of the model\n",
    "                  downstream and understand why generation stopped.\n",
    "            run_manager: A run manager with callbacks for the LLM.\n",
    "        \"\"\"\n",
    "        # Replace this with actual logic to generate a response from a list\n",
    "        # of messages.\n",
    "        last_message = messages[-1]\n",
    "        tokens = last_message.content[: self.parrot_buffer_length]\n",
    "        genai_client.chat_completion(\n",
    "                application=application,\n",
    "                model=claude,\n",
    "                messages=[\n",
    "                    Message(role=\"user\", content=[\"What's the weather in Amsterdam?\"]),\n",
    "                ],\n",
    "                parameters={\n",
    "                    'max_tokens': 100,\n",
    "                },\n",
    "            )\n",
    "        ct_input_tokens = sum(len(message.content) for message in messages)\n",
    "        ct_output_tokens = len(tokens)\n",
    "        message = AIMessage(\n",
    "            content=tokens,\n",
    "            additional_kwargs={},  # Used to add additional payload to the message\n",
    "            response_metadata={  # Use for response metadata\n",
    "                \"time_in_seconds\": 3,\n",
    "            },\n",
    "            usage_metadata={\n",
    "                \"input_tokens\": ct_input_tokens,\n",
    "                \"output_tokens\": ct_output_tokens,\n",
    "                \"total_tokens\": ct_input_tokens + ct_output_tokens,\n",
    "            },\n",
    "        )\n",
    "        ##\n",
    "\n",
    "        generation = ChatGeneration(message=message)\n",
    "        return ChatResult(generations=[generation])\n",
    "\n",
    "    # def _stream(\n",
    "    #     self,\n",
    "    #     messages: List[BaseMessage],\n",
    "    #     stop: Optional[List[str]] = None,\n",
    "    #     run_manager: Optional[CallbackManagerForLLMRun] = None,\n",
    "    #     **kwargs: Any,\n",
    "    # ) -> Iterator[ChatGenerationChunk]:\n",
    "    #     \"\"\"Stream the output of the model.\n",
    "\n",
    "    #     This method should be implemented if the model can generate output\n",
    "    #     in a streaming fashion. If the model does not support streaming,\n",
    "    #     do not implement it. In that case streaming requests will be automatically\n",
    "    #     handled by the _generate method.\n",
    "\n",
    "    #     Args:\n",
    "    #         messages: the prompt composed of a list of messages.\n",
    "    #         stop: a list of strings on which the model should stop generating.\n",
    "    #               If generation stops due to a stop token, the stop token itself\n",
    "    #               SHOULD BE INCLUDED as part of the output. This is not enforced\n",
    "    #               across models right now, but it's a good practice to follow since\n",
    "    #               it makes it much easier to parse the output of the model\n",
    "    #               downstream and understand why generation stopped.\n",
    "    #         run_manager: A run manager with callbacks for the LLM.\n",
    "    #     \"\"\"\n",
    "    #     last_message = messages[-1]\n",
    "    #     tokens = str(last_message.content[: self.parrot_buffer_length])\n",
    "    #     ct_input_tokens = sum(len(message.content) for message in messages)\n",
    "\n",
    "    #     for token in tokens:\n",
    "    #         usage_metadata = UsageMetadata(\n",
    "    #             {\n",
    "    #                 \"input_tokens\": ct_input_tokens,\n",
    "    #                 \"output_tokens\": 1,\n",
    "    #                 \"total_tokens\": ct_input_tokens + 1,\n",
    "    #             }\n",
    "    #         )\n",
    "    #         ct_input_tokens = 0\n",
    "    #         chunk = ChatGenerationChunk(\n",
    "    #             message=AIMessageChunk(content=token, usage_metadata=usage_metadata)\n",
    "    #         )\n",
    "\n",
    "    #         if run_manager:\n",
    "    #             # This is optional in newer versions of LangChain\n",
    "    #             # The on_llm_new_token will be called automatically\n",
    "    #             run_manager.on_llm_new_token(token, chunk=chunk)\n",
    "\n",
    "    #         yield chunk\n",
    "\n",
    "    #     # Let's add some other information (e.g., response metadata)\n",
    "    #     chunk = ChatGenerationChunk(\n",
    "    #         message=AIMessageChunk(content=\"\", response_metadata={\"time_in_sec\": 3})\n",
    "    #     )\n",
    "    #     if run_manager:\n",
    "    #         # This is optional in newer versions of LangChain\n",
    "    #         # The on_llm_new_token will be called automatically\n",
    "    #         run_manager.on_llm_new_token(token, chunk=chunk)\n",
    "    #     yield chunk\n",
    "\n",
    "    @property\n",
    "    def _llm_type(self) -> str:\n",
    "        \"\"\"Get the type of language model used by this chat model.\"\"\"\n",
    "        return \"echoing-chat-model-advanced\"\n",
    "\n",
    "    @property\n",
    "    def _identifying_params(self) -> Dict[str, Any]:\n",
    "        \"\"\"Return a dictionary of identifying parameters.\n",
    "\n",
    "        This information is used by the LangChain callback system, which\n",
    "        is used for tracing purposes make it possible to monitor LLMs.\n",
    "        \"\"\"\n",
    "        return {\n",
    "            # The model name allows users to specify custom token counting\n",
    "            # rules in LLM monitoring applications (e.g., in LangSmith users\n",
    "            # can provide per token pricing for their model and monitor\n",
    "            # costs for the given LLM.)\n",
    "            \"model_name\": self.model_name,\n",
    "        }"
   ]
  },
  {
   "cell_type": "code",
   "execution_count": 7,
   "metadata": {},
   "outputs": [
    {
     "data": {
      "text/plain": [
       "<langgraph.graph.state.StateGraph at 0x1300edbe0>"
      ]
     },
     "execution_count": 7,
     "metadata": {},
     "output_type": "execute_result"
    }
   ],
   "source": [
    "# from langchain_anthropic import ChatAnthropic\n",
    "\n",
    "# llm = ChatAnthropic(model=\"claude-3-5-sonnet-20240620\")\n",
    "\n",
    "llm = ChatParrotLink(parrot_buffer_length=3, model=\"my_custom_model\")\n",
    "\n",
    "def chatbot(state: State):\n",
    "    return {\"messages\": [llm.invoke(state[\"messages\"])]}\n",
    "\n",
    "\n",
    "# The first argument is the unique node name\n",
    "# The second argument is the function or object that will be called whenever\n",
    "# the node is used.\n",
    "graph_builder.add_node(\"chatbot\", chatbot)"
   ]
  },
  {
   "cell_type": "code",
   "execution_count": 8,
   "metadata": {},
   "outputs": [
    {
     "data": {
      "text/plain": [
       "<langgraph.graph.state.StateGraph at 0x1300edbe0>"
      ]
     },
     "execution_count": 8,
     "metadata": {},
     "output_type": "execute_result"
    }
   ],
   "source": [
    "graph_builder.add_edge(START, \"chatbot\")"
   ]
  },
  {
   "cell_type": "code",
   "execution_count": 9,
   "metadata": {},
   "outputs": [
    {
     "data": {
      "text/plain": [
       "<langgraph.graph.state.StateGraph at 0x1300edbe0>"
      ]
     },
     "execution_count": 9,
     "metadata": {},
     "output_type": "execute_result"
    }
   ],
   "source": [
    "graph_builder.add_edge(\"chatbot\", END)"
   ]
  },
  {
   "cell_type": "code",
   "execution_count": 10,
   "metadata": {},
   "outputs": [],
   "source": [
    "graph = graph_builder.compile()"
   ]
  },
  {
   "cell_type": "code",
   "execution_count": 11,
   "metadata": {},
   "outputs": [
    {
     "data": {
      "image/png": "[encoded data removed]",
      "text/plain": [
       "<IPython.core.display.Image object>"
      ]
     },
     "metadata": {},
     "output_type": "display_data"
    }
   ],
   "source": [
    "from IPython.display import Image, display\n",
    "\n",
    "try:\n",
    "    display(Image(graph.get_graph().draw_mermaid_png()))\n",
    "except Exception:\n",
    "    # This requires some extra dependencies and is optional\n",
    "    pass"
   ]
  },
  {
   "cell_type": "code",
   "execution_count": null,
   "metadata": {},
   "outputs": [
    {
     "name": "stdout",
     "output_type": "stream",
     "text": [
      "Assistant: \n",
      "Assistant: \n",
      "Assistant: \n",
      "Assistant: \n",
      "Assistant: \n",
      "Assistant: \n",
      "Assistant: \n",
      "Assistant: \n",
      "Assistant: weq\n",
      "Assistant: wqe\n"
     ]
    }
   ],
   "source": [
    "def stream_graph_updates(user_input: str):\n",
    "    for event in graph.stream({\"messages\": [{\"role\": \"user\", \"content\": user_input}]}):\n",
    "        for value in event.values():\n",
    "            print(\"Assistant:\", value[\"messages\"][-1].content)\n",
    "\n",
    "i=0\n",
    "while True and i<10:\n",
    "    i+=1\n",
    "    try:\n",
    "        user_input = input(\"User: \")\n",
    "        if user_input.lower() in [\"quit\", \"exit\", \"q\"]:\n",
    "            print(\"Goodbye!\")\n",
    "            break\n",
    "\n",
    "        stream_graph_updates(user_input)\n",
    "    except:\n",
    "        # fallback if input() is not available\n",
    "        user_input = \"What do you know about LangGraph?\"\n",
    "        print(\"User: \" + user_input)\n",
    "        stream_graph_updates(user_input)\n",
    "        break"
   ]
  }
 ],
 "metadata": {
  "kernelspec": {
   "display_name": ".venv",
   "language": "python",
   "name": "python3"
  },
  "language_info": {
   "codemirror_mode": {
    "name": "ipython",
    "version": 3
   },
   "file_extension": ".py",
   "mimetype": "text/x-python",
   "name": "python",
   "nbconvert_exporter": "python",
   "pygments_lexer": "ipython3",
   "version": "3.13.2"
  }
 },
 "nbformat": 4,
 "nbformat_minor": 2
}
