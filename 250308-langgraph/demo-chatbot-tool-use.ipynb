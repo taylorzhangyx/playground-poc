{
 "cells": [
  {
   "cell_type": "code",
   "execution_count": 8,
   "metadata": {},
   "outputs": [],
   "source": [
    "%%capture --no-stderr\n",
    "%pip install -U tavily-python langchain_community"
   ]
  },
  {
   "cell_type": "code",
   "execution_count": 9,
   "metadata": {},
   "outputs": [],
   "source": [
    "import getpass\n",
    "import os\n",
    "\n",
    "\n",
    "def _set_env(var: str):\n",
    "    if not os.environ.get(var):\n",
    "        os.environ[var] = getpass.getpass(f\"{var}: \")\n",
    "\n",
    "_set_env(\"TAVILY_API_KEY\")"
   ]
  },
  {
   "cell_type": "code",
   "execution_count": 10,
   "metadata": {},
   "outputs": [],
   "source": [
    "from langchain_community.tools.tavily_search import TavilySearchResults\n",
    "\n",
    "tool = TavilySearchResults(max_results=2)\n",
    "tools = [tool]\n",
    "# tool.invoke(\"What's a 'node' in LangGraph?\")"
   ]
  },
  {
   "cell_type": "code",
   "execution_count": 17,
   "metadata": {},
   "outputs": [
    {
     "data": {
      "text/plain": [
       "<langgraph.graph.state.StateGraph at 0x10e7a3b10>"
      ]
     },
     "execution_count": 17,
     "metadata": {},
     "output_type": "execute_result"
    }
   ],
   "source": [
    "from typing import Annotated\n",
    "\n",
    "from langchain_anthropic import ChatAnthropic\n",
    "from typing_extensions import TypedDict\n",
    "\n",
    "from langgraph.graph import StateGraph, START, END\n",
    "from langgraph.graph.message import add_messages\n",
    "\n",
    "\n",
    "class State(TypedDict):\n",
    "    messages: Annotated[list, add_messages]\n",
    "\n",
    "\n",
    "graph_builder = StateGraph(State)\n",
    "\n",
    "llm = ChatAnthropic(model=\"claude-3-5-sonnet-20240620\")\n",
    "# Modification: tell the LLM which tools it can call\n",
    "llm_with_tools = llm.bind_tools(tools)\n",
    "\n",
    "\n",
    "def chatbot(state: State):\n",
    "    return {\"messages\": [llm_with_tools.invoke(state[\"messages\"])]}\n",
    "\n",
    "\n",
    "graph_builder.add_node(\"chatbot\", chatbot)"
   ]
  },
  {
   "cell_type": "code",
   "execution_count": 12,
   "metadata": {},
   "outputs": [
    {
     "data": {
      "text/plain": [
       "<langgraph.graph.state.StateGraph at 0x10d986fd0>"
      ]
     },
     "execution_count": 12,
     "metadata": {},
     "output_type": "execute_result"
    }
   ],
   "source": [
    "import json\n",
    "\n",
    "from langchain_core.messages import ToolMessage\n",
    "\n",
    "\n",
    "class BasicToolNode:\n",
    "    \"\"\"A node that runs the tools requested in the last AIMessage.\"\"\"\n",
    "\n",
    "    def __init__(self, tools: list) -> None:\n",
    "        self.tools_by_name = {tool.name: tool for tool in tools}\n",
    "\n",
    "    def __call__(self, inputs: dict):\n",
    "        if messages := inputs.get(\"messages\", []):\n",
    "            message = messages[-1]\n",
    "        else:\n",
    "            raise ValueError(\"No message found in input\")\n",
    "        outputs = []\n",
    "        for tool_call in message.tool_calls:\n",
    "            tool_result = self.tools_by_name[tool_call[\"name\"]].invoke(\n",
    "                tool_call[\"args\"]\n",
    "            )\n",
    "            outputs.append(\n",
    "                ToolMessage(\n",
    "                    content=json.dumps(tool_result),\n",
    "                    name=tool_call[\"name\"],\n",
    "                    tool_call_id=tool_call[\"id\"],\n",
    "                )\n",
    "            )\n",
    "        return {\"messages\": outputs}\n",
    "\n",
    "\n",
    "tool_node = BasicToolNode(tools=[tool])\n",
    "graph_builder.add_node(\"tools\", tool_node)"
   ]
  },
  {
   "cell_type": "code",
   "execution_count": 13,
   "metadata": {},
   "outputs": [],
   "source": [
    "def route_tools(\n",
    "    state: State,\n",
    "):\n",
    "    \"\"\"\n",
    "    Use in the conditional_edge to route to the ToolNode if the last message\n",
    "    has tool calls. Otherwise, route to the end.\n",
    "    \"\"\"\n",
    "    if isinstance(state, list):\n",
    "        ai_message = state[-1]\n",
    "    elif messages := state.get(\"messages\", []):\n",
    "        ai_message = messages[-1]\n",
    "    else:\n",
    "        raise ValueError(f\"No messages found in input state to tool_edge: {state}\")\n",
    "    if hasattr(ai_message, \"tool_calls\") and len(ai_message.tool_calls) > 0:\n",
    "        return \"tools\"\n",
    "    return END\n",
    "\n",
    "\n",
    "# The `tools_condition` function returns \"tools\" if the chatbot asks to use a tool, and \"END\" if\n",
    "# it is fine directly responding. This conditional routing defines the main agent loop.\n",
    "graph_builder.add_conditional_edges(\n",
    "    \"chatbot\",\n",
    "    route_tools,\n",
    "    # The following dictionary lets you tell the graph to interpret the condition's outputs as a specific node\n",
    "    # It defaults to the identity function, but if you\n",
    "    # want to use a node named something else apart from \"tools\",\n",
    "    # You can update the value of the dictionary to something else\n",
    "    # e.g., \"tools\": \"my_tools\"\n",
    "    {\"tools\": \"tools\", END: END},\n",
    ")\n",
    "# Any time a tool is called, we return to the chatbot to decide the next step\n",
    "graph_builder.add_edge(\"tools\", \"chatbot\")\n",
    "graph_builder.add_edge(START, \"chatbot\")\n",
    "graph = graph_builder.compile(debug=True)"
   ]
  },
  {
   "cell_type": "code",
   "execution_count": 14,
   "metadata": {},
   "outputs": [
    {
     "data": {
      "image/png": "[encoded data removed]",
      "text/plain": [
       "<IPython.core.display.Image object>"
      ]
     },
     "metadata": {},
     "output_type": "display_data"
    }
   ],
   "source": [
    "from IPython.display import Image, display\n",
    "\n",
    "try:\n",
    "    display(Image(graph.get_graph().draw_mermaid_png()))\n",
    "except Exception:\n",
    "    # This requires some extra dependencies and is optional\n",
    "    pass"
   ]
  },
  {
   "cell_type": "code",
   "execution_count": 16,
   "metadata": {},
   "outputs": [
    {
     "name": "stdout",
     "output_type": "stream",
     "text": [
      "\u001b[36;1m\u001b[1;3m[-1:checkpoint]\u001b[0m \u001b[1mState at the end of step -1:\n",
      "\u001b[0m{'messages': []}\n",
      "\u001b[36;1m\u001b[1;3m[0:tasks]\u001b[0m \u001b[1mStarting 1 task for step 0:\n",
      "\u001b[0m- \u001b[32;1m\u001b[1;3m__start__\u001b[0m -> {'messages': [{'content': 'what is manus', 'role': 'user'}]}\n",
      "\u001b[36;1m\u001b[1;3m[0:writes]\u001b[0m \u001b[1mFinished step 0 with writes to 1 channel:\n",
      "\u001b[0m- \u001b[33;1m\u001b[1;3mmessages\u001b[0m -> [{'content': 'what is manus', 'role': 'user'}]\n",
      "\u001b[36;1m\u001b[1;3m[0:checkpoint]\u001b[0m \u001b[1mState at the end of step 0:\n",
      "\u001b[0m{'messages': [HumanMessage(content='what is manus', additional_kwargs={}, response_metadata={}, id='698741df-748d-4f3e-bfb8-1c5a0948b28b')]}\n",
      "\u001b[36;1m\u001b[1;3m[1:tasks]\u001b[0m \u001b[1mStarting 1 task for step 1:\n",
      "\u001b[0m- \u001b[32;1m\u001b[1;3mchatbot\u001b[0m -> {'messages': [HumanMessage(content='what is manus', additional_kwargs={}, response_metadata={}, id='698741df-748d-4f3e-bfb8-1c5a0948b28b')]}\n",
      "\u001b[36;1m\u001b[1;3m[1:writes]\u001b[0m \u001b[1mFinished step 1 with writes to 1 channel:\n",
      "\u001b[0m- \u001b[33;1m\u001b[1;3mmessages\u001b[0m -> [AIMessage(content=[{'text': 'To provide you with accurate and up-to-date information about \"manus,\" I\\'ll need to search for it. Let me do that for you.', 'type': 'text'}, {'id': 'toolu_01V6Shte7wq9aqiZQugsq5ZP', 'input': {'query': 'what is manus'}, 'name': 'tavily_search_results_json', 'type': 'tool_use'}], additional_kwargs={}, response_metadata={'id': 'msg_01RYWEyhkjHaZsDu1C6ESxZP', 'model': 'claude-3-5-sonnet-20240620', 'stop_reason': 'tool_use', 'stop_sequence': None, 'usage': {'cache_creation_input_tokens': 0, 'cache_read_input_tokens': 0, 'input_tokens': 401, 'output_tokens': 94}, 'model_name': 'claude-3-5-sonnet-20240620'}, id='run-9ca137a3-bfea-4e90-81f9-184cc091655d-0', tool_calls=[{'name': 'tavily_search_results_json', 'args': {'query': 'what is manus'}, 'id': 'toolu_01V6Shte7wq9aqiZQugsq5ZP', 'type': 'tool_call'}], usage_metadata={'input_tokens': 401, 'output_tokens': 94, 'total_tokens': 495, 'input_token_details': {'cache_read': 0, 'cache_creation': 0}})]\n",
      "\u001b[36;1m\u001b[1;3m[1:checkpoint]\u001b[0m \u001b[1mState at the end of step 1:\n",
      "\u001b[0m{'messages': [HumanMessage(content='what is manus', additional_kwargs={}, response_metadata={}, id='698741df-748d-4f3e-bfb8-1c5a0948b28b'),\n",
      "              AIMessage(content=[{'text': 'To provide you with accurate and up-to-date information about \"manus,\" I\\'ll need to search for it. Let me do that for you.', 'type': 'text'}, {'id': 'toolu_01V6Shte7wq9aqiZQugsq5ZP', 'input': {'query': 'what is manus'}, 'name': 'tavily_search_results_json', 'type': 'tool_use'}], additional_kwargs={}, response_metadata={'id': 'msg_01RYWEyhkjHaZsDu1C6ESxZP', 'model': 'claude-3-5-sonnet-20240620', 'stop_reason': 'tool_use', 'stop_sequence': None, 'usage': {'cache_creation_input_tokens': 0, 'cache_read_input_tokens': 0, 'input_tokens': 401, 'output_tokens': 94}, 'model_name': 'claude-3-5-sonnet-20240620'}, id='run-9ca137a3-bfea-4e90-81f9-184cc091655d-0', tool_calls=[{'name': 'tavily_search_results_json', 'args': {'query': 'what is manus'}, 'id': 'toolu_01V6Shte7wq9aqiZQugsq5ZP', 'type': 'tool_call'}], usage_metadata={'input_tokens': 401, 'output_tokens': 94, 'total_tokens': 495, 'input_token_details': {'cache_read': 0, 'cache_creation': 0}})]}\n",
      "\u001b[36;1m\u001b[1;3m[2:tasks]\u001b[0m \u001b[1mStarting 1 task for step 2:\n",
      "\u001b[0m- \u001b[32;1m\u001b[1;3mtools\u001b[0m -> {'messages': [HumanMessage(content='what is manus', additional_kwargs={}, response_metadata={}, id='698741df-748d-4f3e-bfb8-1c5a0948b28b'),\n",
      "              AIMessage(content=[{'text': 'To provide you with accurate and up-to-date information about \"manus,\" I\\'ll need to search for it. Let me do that for you.', 'type': 'text'}, {'id': 'toolu_01V6Shte7wq9aqiZQugsq5ZP', 'input': {'query': 'what is manus'}, 'name': 'tavily_search_results_json', 'type': 'tool_use'}], additional_kwargs={}, response_metadata={'id': 'msg_01RYWEyhkjHaZsDu1C6ESxZP', 'model': 'claude-3-5-sonnet-20240620', 'stop_reason': 'tool_use', 'stop_sequence': None, 'usage': {'cache_creation_input_tokens': 0, 'cache_read_input_tokens': 0, 'input_tokens': 401, 'output_tokens': 94}, 'model_name': 'claude-3-5-sonnet-20240620'}, id='run-9ca137a3-bfea-4e90-81f9-184cc091655d-0', tool_calls=[{'name': 'tavily_search_results_json', 'args': {'query': 'what is manus'}, 'id': 'toolu_01V6Shte7wq9aqiZQugsq5ZP', 'type': 'tool_call'}], usage_metadata={'input_tokens': 401, 'output_tokens': 94, 'total_tokens': 495, 'input_token_details': {'cache_read': 0, 'cache_creation': 0}})]}\n",
      "Assistant: [{'text': 'To provide you with accurate and up-to-date information about \"manus,\" I\\'ll need to search for it. Let me do that for you.', 'type': 'text'}, {'id': 'toolu_01V6Shte7wq9aqiZQugsq5ZP', 'input': {'query': 'what is manus'}, 'name': 'tavily_search_results_json', 'type': 'tool_use'}]\n",
      "\u001b[36;1m\u001b[1;3m[2:writes]\u001b[0m \u001b[1mFinished step 2 with writes to 1 channel:\n",
      "\u001b[0m- \u001b[33;1m\u001b[1;3mmessages\u001b[0m -> [ToolMessage(content='[{\"title\": \"What is Manus? : r/darksouls - Reddit\", \"url\": \"https://www.reddit.com/r/darksouls/comments/95fhsj/what_is_manus/\", \"content\": \"Manus was just a human who became the Father of the Abyss when his humanity was corrupted & went wild & nuts but we don\\'t really know what caused this.\", \"score\": 0.8646883}, {\"title\": \"What is Manus? China\\'s World-First Fully Autonomous AI Agent ...\", \"url\": \"https://www.newsweek.com/manus-new-china-ai-agent-explained-2040445\", \"content\": \"China\\'s World-First Fully Autonomous AI Agent Explained - Newsweek ByTheo Burman is a Newsweek Live News Reporter based in London, U.K. His focus is on U.S. politics and international news, as well as the impact of digital culture on elections. Theo Burman is a Newsweek Live News Reporter based in London, U.K. His focus is on U.S. politics and international news, as well as the impact of digital culture on elections. Theo Burman is a Newsweek Live News Reporter based in London, U.K. His focus is on U.S. politics and international news, as well as the impact of digital culture on elections. Theo Burman is a Newsweek Live News Reporter based in London, U.K. His focus is on U.S. politics and international ...\", \"score\": 0.55623144}]', name='tavily_search_results_json', tool_call_id='toolu_01V6Shte7wq9aqiZQugsq5ZP')]\n",
      "\u001b[36;1m\u001b[1;3m[2:checkpoint]\u001b[0m \u001b[1mState at the end of step 2:\n",
      "\u001b[0m{'messages': [HumanMessage(content='what is manus', additional_kwargs={}, response_metadata={}, id='698741df-748d-4f3e-bfb8-1c5a0948b28b'),\n",
      "              AIMessage(content=[{'text': 'To provide you with accurate and up-to-date information about \"manus,\" I\\'ll need to search for it. Let me do that for you.', 'type': 'text'}, {'id': 'toolu_01V6Shte7wq9aqiZQugsq5ZP', 'input': {'query': 'what is manus'}, 'name': 'tavily_search_results_json', 'type': 'tool_use'}], additional_kwargs={}, response_metadata={'id': 'msg_01RYWEyhkjHaZsDu1C6ESxZP', 'model': 'claude-3-5-sonnet-20240620', 'stop_reason': 'tool_use', 'stop_sequence': None, 'usage': {'cache_creation_input_tokens': 0, 'cache_read_input_tokens': 0, 'input_tokens': 401, 'output_tokens': 94}, 'model_name': 'claude-3-5-sonnet-20240620'}, id='run-9ca137a3-bfea-4e90-81f9-184cc091655d-0', tool_calls=[{'name': 'tavily_search_results_json', 'args': {'query': 'what is manus'}, 'id': 'toolu_01V6Shte7wq9aqiZQugsq5ZP', 'type': 'tool_call'}], usage_metadata={'input_tokens': 401, 'output_tokens': 94, 'total_tokens': 495, 'input_token_details': {'cache_read': 0, 'cache_creation': 0}}),\n",
      "              ToolMessage(content='[{\"title\": \"What is Manus? : r/darksouls - Reddit\", \"url\": \"https://www.reddit.com/r/darksouls/comments/95fhsj/what_is_manus/\", \"content\": \"Manus was just a human who became the Father of the Abyss when his humanity was corrupted & went wild & nuts but we don\\'t really know what caused this.\", \"score\": 0.8646883}, {\"title\": \"What is Manus? China\\'s World-First Fully Autonomous AI Agent ...\", \"url\": \"https://www.newsweek.com/manus-new-china-ai-agent-explained-2040445\", \"content\": \"China\\'s World-First Fully Autonomous AI Agent Explained - Newsweek ByTheo Burman is a Newsweek Live News Reporter based in London, U.K. His focus is on U.S. politics and international news, as well as the impact of digital culture on elections. Theo Burman is a Newsweek Live News Reporter based in London, U.K. His focus is on U.S. politics and international news, as well as the impact of digital culture on elections. Theo Burman is a Newsweek Live News Reporter based in London, U.K. His focus is on U.S. politics and international news, as well as the impact of digital culture on elections. Theo Burman is a Newsweek Live News Reporter based in London, U.K. His focus is on U.S. politics and international ...\", \"score\": 0.55623144}]', name='tavily_search_results_json', id='069cb91f-ba33-4c5f-a7dd-bbeaff69ea45', tool_call_id='toolu_01V6Shte7wq9aqiZQugsq5ZP')]}\n",
      "\u001b[36;1m\u001b[1;3m[3:tasks]\u001b[0m \u001b[1mStarting 1 task for step 3:\n",
      "\u001b[0m- \u001b[32;1m\u001b[1;3mchatbot\u001b[0m -> {'messages': [HumanMessage(content='what is manus', additional_kwargs={}, response_metadata={}, id='698741df-748d-4f3e-bfb8-1c5a0948b28b'),\n",
      "              AIMessage(content=[{'text': 'To provide you with accurate and up-to-date information about \"manus,\" I\\'ll need to search for it. Let me do that for you.', 'type': 'text'}, {'id': 'toolu_01V6Shte7wq9aqiZQugsq5ZP', 'input': {'query': 'what is manus'}, 'name': 'tavily_search_results_json', 'type': 'tool_use'}], additional_kwargs={}, response_metadata={'id': 'msg_01RYWEyhkjHaZsDu1C6ESxZP', 'model': 'claude-3-5-sonnet-20240620', 'stop_reason': 'tool_use', 'stop_sequence': None, 'usage': {'cache_creation_input_tokens': 0, 'cache_read_input_tokens': 0, 'input_tokens': 401, 'output_tokens': 94}, 'model_name': 'claude-3-5-sonnet-20240620'}, id='run-9ca137a3-bfea-4e90-81f9-184cc091655d-0', tool_calls=[{'name': 'tavily_search_results_json', 'args': {'query': 'what is manus'}, 'id': 'toolu_01V6Shte7wq9aqiZQugsq5ZP', 'type': 'tool_call'}], usage_metadata={'input_tokens': 401, 'output_tokens': 94, 'total_tokens': 495, 'input_token_details': {'cache_read': 0, 'cache_creation': 0}}),\n",
      "              ToolMessage(content='[{\"title\": \"What is Manus? : r/darksouls - Reddit\", \"url\": \"https://www.reddit.com/r/darksouls/comments/95fhsj/what_is_manus/\", \"content\": \"Manus was just a human who became the Father of the Abyss when his humanity was corrupted & went wild & nuts but we don\\'t really know what caused this.\", \"score\": 0.8646883}, {\"title\": \"What is Manus? China\\'s World-First Fully Autonomous AI Agent ...\", \"url\": \"https://www.newsweek.com/manus-new-china-ai-agent-explained-2040445\", \"content\": \"China\\'s World-First Fully Autonomous AI Agent Explained - Newsweek ByTheo Burman is a Newsweek Live News Reporter based in London, U.K. His focus is on U.S. politics and international news, as well as the impact of digital culture on elections. Theo Burman is a Newsweek Live News Reporter based in London, U.K. His focus is on U.S. politics and international news, as well as the impact of digital culture on elections. Theo Burman is a Newsweek Live News Reporter based in London, U.K. His focus is on U.S. politics and international news, as well as the impact of digital culture on elections. Theo Burman is a Newsweek Live News Reporter based in London, U.K. His focus is on U.S. politics and international ...\", \"score\": 0.55623144}]', name='tavily_search_results_json', id='069cb91f-ba33-4c5f-a7dd-bbeaff69ea45', tool_call_id='toolu_01V6Shte7wq9aqiZQugsq5ZP')]}\n",
      "Assistant: [{\"title\": \"What is Manus? : r/darksouls - Reddit\", \"url\": \"https://www.reddit.com/r/darksouls/comments/95fhsj/what_is_manus/\", \"content\": \"Manus was just a human who became the Father of the Abyss when his humanity was corrupted & went wild & nuts but we don't really know what caused this.\", \"score\": 0.8646883}, {\"title\": \"What is Manus? China's World-First Fully Autonomous AI Agent ...\", \"url\": \"https://www.newsweek.com/manus-new-china-ai-agent-explained-2040445\", \"content\": \"China's World-First Fully Autonomous AI Agent Explained - Newsweek ByTheo Burman is a Newsweek Live News Reporter based in London, U.K. His focus is on U.S. politics and international news, as well as the impact of digital culture on elections. Theo Burman is a Newsweek Live News Reporter based in London, U.K. His focus is on U.S. politics and international news, as well as the impact of digital culture on elections. Theo Burman is a Newsweek Live News Reporter based in London, U.K. His focus is on U.S. politics and international news, as well as the impact of digital culture on elections. Theo Burman is a Newsweek Live News Reporter based in London, U.K. His focus is on U.S. politics and international ...\", \"score\": 0.55623144}]\n",
      "\u001b[36;1m\u001b[1;3m[3:writes]\u001b[0m \u001b[1mFinished step 3 with writes to 1 channel:\n",
      "\u001b[0m- \u001b[33;1m\u001b[1;3mmessages\u001b[0m -> [AIMessage(content='Based on the search results, I can provide you with information about \"Manus\" in different contexts:\\n\\n1. In the context of the video game Dark Souls:\\nManus is a character referred to as the \"Father of the Abyss.\" He was originally a human whose humanity became corrupted, causing him to go \"wild and nuts.\" This corruption led to him becoming the Father of the Abyss, though the exact cause of this corruption is not clearly known within the game\\'s lore.\\n\\n2. In the context of artificial intelligence:\\nManus is also the name of a new AI agent developed in China. It\\'s described as the world\\'s first fully autonomous AI agent. This appears to be a recent development in the field of artificial intelligence, though the specific details about its capabilities and functions are not provided in the brief search result.\\n\\nThe term \"manus\" can have different meanings depending on the context. In Latin, \"manus\" means \"hand,\" and it\\'s used in various scientific and medical terms related to hands or hand-like structures.\\n\\nIf you\\'re interested in a specific aspect of Manus or if you meant something different, please let me know, and I can search for more precise information.', additional_kwargs={}, response_metadata={'id': 'msg_012fGrsKbn4yxF83BAhaLL6w', 'model': 'claude-3-5-sonnet-20240620', 'stop_reason': 'end_turn', 'stop_sequence': None, 'usage': {'cache_creation_input_tokens': 0, 'cache_read_input_tokens': 0, 'input_tokens': 873, 'output_tokens': 265}, 'model_name': 'claude-3-5-sonnet-20240620'}, id='run-61cb9566-dadd-4019-a01a-276707a0e326-0', usage_metadata={'input_tokens': 873, 'output_tokens': 265, 'total_tokens': 1138, 'input_token_details': {'cache_read': 0, 'cache_creation': 0}})]\n",
      "\u001b[36;1m\u001b[1;3m[3:checkpoint]\u001b[0m \u001b[1mState at the end of step 3:\n",
      "\u001b[0m{'messages': [HumanMessage(content='what is manus', additional_kwargs={}, response_metadata={}, id='698741df-748d-4f3e-bfb8-1c5a0948b28b'),\n",
      "              AIMessage(content=[{'text': 'To provide you with accurate and up-to-date information about \"manus,\" I\\'ll need to search for it. Let me do that for you.', 'type': 'text'}, {'id': 'toolu_01V6Shte7wq9aqiZQugsq5ZP', 'input': {'query': 'what is manus'}, 'name': 'tavily_search_results_json', 'type': 'tool_use'}], additional_kwargs={}, response_metadata={'id': 'msg_01RYWEyhkjHaZsDu1C6ESxZP', 'model': 'claude-3-5-sonnet-20240620', 'stop_reason': 'tool_use', 'stop_sequence': None, 'usage': {'cache_creation_input_tokens': 0, 'cache_read_input_tokens': 0, 'input_tokens': 401, 'output_tokens': 94}, 'model_name': 'claude-3-5-sonnet-20240620'}, id='run-9ca137a3-bfea-4e90-81f9-184cc091655d-0', tool_calls=[{'name': 'tavily_search_results_json', 'args': {'query': 'what is manus'}, 'id': 'toolu_01V6Shte7wq9aqiZQugsq5ZP', 'type': 'tool_call'}], usage_metadata={'input_tokens': 401, 'output_tokens': 94, 'total_tokens': 495, 'input_token_details': {'cache_read': 0, 'cache_creation': 0}}),\n",
      "              ToolMessage(content='[{\"title\": \"What is Manus? : r/darksouls - Reddit\", \"url\": \"https://www.reddit.com/r/darksouls/comments/95fhsj/what_is_manus/\", \"content\": \"Manus was just a human who became the Father of the Abyss when his humanity was corrupted & went wild & nuts but we don\\'t really know what caused this.\", \"score\": 0.8646883}, {\"title\": \"What is Manus? China\\'s World-First Fully Autonomous AI Agent ...\", \"url\": \"https://www.newsweek.com/manus-new-china-ai-agent-explained-2040445\", \"content\": \"China\\'s World-First Fully Autonomous AI Agent Explained - Newsweek ByTheo Burman is a Newsweek Live News Reporter based in London, U.K. His focus is on U.S. politics and international news, as well as the impact of digital culture on elections. Theo Burman is a Newsweek Live News Reporter based in London, U.K. His focus is on U.S. politics and international news, as well as the impact of digital culture on elections. Theo Burman is a Newsweek Live News Reporter based in London, U.K. His focus is on U.S. politics and international news, as well as the impact of digital culture on elections. Theo Burman is a Newsweek Live News Reporter based in London, U.K. His focus is on U.S. politics and international ...\", \"score\": 0.55623144}]', name='tavily_search_results_json', id='069cb91f-ba33-4c5f-a7dd-bbeaff69ea45', tool_call_id='toolu_01V6Shte7wq9aqiZQugsq5ZP'),\n",
      "              AIMessage(content='Based on the search results, I can provide you with information about \"Manus\" in different contexts:\\n\\n1. In the context of the video game Dark Souls:\\nManus is a character referred to as the \"Father of the Abyss.\" He was originally a human whose humanity became corrupted, causing him to go \"wild and nuts.\" This corruption led to him becoming the Father of the Abyss, though the exact cause of this corruption is not clearly known within the game\\'s lore.\\n\\n2. In the context of artificial intelligence:\\nManus is also the name of a new AI agent developed in China. It\\'s described as the world\\'s first fully autonomous AI agent. This appears to be a recent development in the field of artificial intelligence, though the specific details about its capabilities and functions are not provided in the brief search result.\\n\\nThe term \"manus\" can have different meanings depending on the context. In Latin, \"manus\" means \"hand,\" and it\\'s used in various scientific and medical terms related to hands or hand-like structures.\\n\\nIf you\\'re interested in a specific aspect of Manus or if you meant something different, please let me know, and I can search for more precise information.', additional_kwargs={}, response_metadata={'id': 'msg_012fGrsKbn4yxF83BAhaLL6w', 'model': 'claude-3-5-sonnet-20240620', 'stop_reason': 'end_turn', 'stop_sequence': None, 'usage': {'cache_creation_input_tokens': 0, 'cache_read_input_tokens': 0, 'input_tokens': 873, 'output_tokens': 265}, 'model_name': 'claude-3-5-sonnet-20240620'}, id='run-61cb9566-dadd-4019-a01a-276707a0e326-0', usage_metadata={'input_tokens': 873, 'output_tokens': 265, 'total_tokens': 1138, 'input_token_details': {'cache_read': 0, 'cache_creation': 0}})]}\n",
      "Assistant: Based on the search results, I can provide you with information about \"Manus\" in different contexts:\n",
      "\n",
      "1. In the context of the video game Dark Souls:\n",
      "Manus is a character referred to as the \"Father of the Abyss.\" He was originally a human whose humanity became corrupted, causing him to go \"wild and nuts.\" This corruption led to him becoming the Father of the Abyss, though the exact cause of this corruption is not clearly known within the game's lore.\n",
      "\n",
      "2. In the context of artificial intelligence:\n",
      "Manus is also the name of a new AI agent developed in China. It's described as the world's first fully autonomous AI agent. This appears to be a recent development in the field of artificial intelligence, though the specific details about its capabilities and functions are not provided in the brief search result.\n",
      "\n",
      "The term \"manus\" can have different meanings depending on the context. In Latin, \"manus\" means \"hand,\" and it's used in various scientific and medical terms related to hands or hand-like structures.\n",
      "\n",
      "If you're interested in a specific aspect of Manus or if you meant something different, please let me know, and I can search for more precise information.\n",
      "Goodbye!\n"
     ]
    }
   ],
   "source": [
    "def stream_graph_updates(user_input: str):\n",
    "    for event in graph.stream({\"messages\": [{\"role\": \"user\", \"content\": user_input}]}):\n",
    "        # if event[\"event\"] == \"llm\":\n",
    "        #     print(f\"Prompt sent to LLM:\\n{event['data']['input']}\")\n",
    "        #     # You can also see the response\n",
    "        #     print(f\"LLM response:\\n{event['data']['output']}\")\n",
    "        for value in event.values():\n",
    "            print(\"Assistant:\", value[\"messages\"][-1].content)\n",
    "\n",
    "while True:\n",
    "    try:\n",
    "        user_input = input(\"User: \")\n",
    "        if user_input.lower() in [\"quit\", \"exit\", \"q\"]:\n",
    "            print(\"Goodbye!\")\n",
    "            break\n",
    "\n",
    "        stream_graph_updates(user_input)\n",
    "    except:\n",
    "        # fallback if input() is not available\n",
    "        user_input = \"What do you know about LangGraph?\"\n",
    "        print(\"User: \" + user_input)\n",
    "        stream_graph_updates(user_input)\n",
    "        break"
   ]
  }
 ],
 "metadata": {
  "kernelspec": {
   "display_name": ".venv",
   "language": "python",
   "name": "python3"
  },
  "language_info": {
   "codemirror_mode": {
    "name": "ipython",
    "version": 3
   },
   "file_extension": ".py",
   "mimetype": "text/x-python",
   "name": "python",
   "nbconvert_exporter": "python",
   "pygments_lexer": "ipython3",
   "version": "3.13.1"
  }
 },
 "nbformat": 4,
 "nbformat_minor": 2
}
